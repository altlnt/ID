{
 "cells": [
  {
   "cell_type": "code",
   "execution_count": 1,
   "metadata": {},
   "outputs": [],
   "source": [
    "\n",
    "from pylab import *\n",
    "from physics.classes.world_class import world\n",
    "from physics.classes.body_class import body\n",
    "from physics.classes.motors_class import motor\n",
    "from physics.classes.wing_class import wing\n",
    "from control.estimator_class import estimator\n",
    "from control.controller_class import controller\n",
    "from core.postprocess import postprocesser\n",
    "from core.log import Log\n",
    "import pandas as pd\n",
    "from transforms3d.euler import euler2mat"
   ]
  },
  {
   "cell_type": "code",
   "execution_count": 2,
   "metadata": {},
   "outputs": [
    {
     "name": "stdout",
     "output_type": "stream",
     "text": [
      "Moving to...\n",
      "/home/l3x/Documents/IDENTIFICATION/avion/drone_simulator/data/ulg\n",
      "Executing ulog2csv ./*\n",
      "Renaming files...\n",
      "FOUND CSV FILE, LOADING\n"
     ]
    },
    {
     "ename": "NameError",
     "evalue": "name 'Drone_noact' is not defined",
     "output_type": "error",
     "traceback": [
      "\u001b[0;31m---------------------------------------------------------------------------\u001b[0m",
      "\u001b[0;31mNameError\u001b[0m                                 Traceback (most recent call last)",
      "\u001b[0;32m<ipython-input-2-fdc932a5d15e>\u001b[0m in \u001b[0;36m<module>\u001b[0;34m\u001b[0m\n\u001b[1;32m     17\u001b[0m \u001b[0;34m\u001b[0m\u001b[0m\n\u001b[1;32m     18\u001b[0m \u001b[0;34m\u001b[0m\u001b[0m\n\u001b[0;32m---> 19\u001b[0;31m \u001b[0mDrone_noact\u001b[0m\u001b[0;34m.\u001b[0m\u001b[0minit_motors\u001b[0m\u001b[0;34m(\u001b[0m\u001b[0mlog\u001b[0m\u001b[0;34m=\u001b[0m\u001b[0mLo\u001b[0m\u001b[0;34m)\u001b[0m\u001b[0;34m\u001b[0m\u001b[0;34m\u001b[0m\u001b[0m\n\u001b[0m\u001b[1;32m     20\u001b[0m \u001b[0;34m\u001b[0m\u001b[0m\n\u001b[1;32m     21\u001b[0m \u001b[0;34m\u001b[0m\u001b[0m\n",
      "\u001b[0;31mNameError\u001b[0m: name 'Drone_noact' is not defined"
     ]
    }
   ],
   "source": [
    "import os\n",
    "Lo=Log(ulg_path=os.path.join(os.getcwd(),'data','ulg'),csv_path=os.path.join(os.getcwd(),'data','csv'))\n",
    "Lo.log_to_csv()\n",
    "Lo.import_log(tcut=((-1.0,35.0),(1e3,1e4)))\n",
    "time_range=Lo.DATA.t\n",
    "\n",
    "\n",
    "\n",
    "World=world(g=9.81)\n",
    "\n",
    "\n",
    "# Controller=controller(Path,Drone) \"not implemented for fixed wing yet\"\n",
    "# Estimator=estimator(Drone,World)  \"not implemented for fixed wing yet\"\n",
    "\"If using log, uncomment the next block\"\n",
    "\"Else, uncomment below to generate time range\"\n",
    "\n",
    "\n",
    "\n",
    "\n",
    "\n",
    "\" main loop\"\n",
    "\"it's based on repeted calls to drone.iterate\"\n",
    "\" or to drone.update_from_log\"\n",
    "\n",
    "\"in either case, the drone.iterate function proceeds to a loop\"\n",
    "\"on all the wings and motors and updates them using the current state\"\n",
    "\n"
   ]
  },
  {
   "cell_type": "code",
   "execution_count": null,
   "metadata": {},
   "outputs": [],
   "source": []
  },
  {
   "cell_type": "code",
   "execution_count": null,
   "metadata": {},
   "outputs": [],
   "source": [
    "def create_model(coeffs):\n",
    "\n",
    "    Drone_noact=body(World,\n",
    "                    mass=1.5,\n",
    "                    inertial=diag([0.197563,0.1458929,0.1477]),\n",
    "                    init_speed=array([0.0,0.0,0.0]),\n",
    "                    init_rot=euler2mat(0.0,0.0,0.0),\n",
    "                    init_omega=array([0.0,0,0]),\n",
    "                    init_pos=array([0.0,0.0,0.0]),\n",
    "                    di=0.0,dj=0.0,dk=0.0,\n",
    "                    activate_wings=1.0,\n",
    "                    activate_rotors=1.0,\n",
    "                    attsweep=0.0)\n",
    "\n",
    "\n",
    "    \"adding motors\"\n",
    "    m1pos=array([0.3,0.0,0.0])\n",
    "    Drone_noact.motors.append(motor(Drone_noact,\n",
    "                                    c1=8.56e-6,\n",
    "                                    c2=1.0/25.0,\n",
    "                                    ch1=8.06428e-05,\n",
    "                                    torque_coeff=0.01,\n",
    "                                    time_constant_up=0.0125,\n",
    "                                    time_constant_down=0.025,\n",
    "                                    rolling_moment_coeff=1e-6,\n",
    "                                    number=0,\n",
    "                                    spinning_sense=-1.0,\n",
    "                                    pos=m1pos))\n",
    "\n",
    "    \"adding motors\"\n",
    "    m2pos=array([0.3,0.0,0.0])\n",
    "    Drone_noact.motors.append(motor(Drone_noact,\n",
    "                                    c1=8.56e-6,\n",
    "                                    c2=1.0/25.0,\n",
    "                                    ch1=8.06428e-05,\n",
    "                                    torque_coeff=0.01,\n",
    "                                    time_constant_up=0.0125,\n",
    "                                    time_constant_down=0.025,\n",
    "                                    rolling_moment_coeff=1e-6,\n",
    "                                    number=0,\n",
    "                                    spinning_sense=-1.0,\n",
    "                                    pos=m1pos))\n",
    "\n",
    "\n",
    "    \"adding wings\"\n",
    "    aildroitpos=array([-0.05, 0.45 ,-0.05])\n",
    "    ailgauchpos=array([-0.05 ,-0.45, -0.05])\n",
    "    elevonpos=array([-0.5,0.0,0.0])\n",
    "    rudderpos=array([-0.5,0.0,-0.05])\n",
    "    brakerightpos=array([-0.05 ,-0.15 ,-0.05])\n",
    "    brakeleftpos=array([-0.05 ,0.15 ,-0.05])\n",
    "\n",
    "    rudder_upward=array([0.0,1.0,0.0])\n",
    "\n",
    "    Drone_noact.wings.append(wing(Drone_noact,name=\"RW\",number=0,pos=aildroitpos,Area=0.6,a0=-0.05984281113,joint_gain=-0.5))\n",
    "    Drone_noact.wings.append(wing(Drone_noact,name=\"LW\",number=1,pos=ailgauchpos,Area=0.6,a0=-0.05984281113,joint_gain=-0.5))\n",
    "    Drone_noact.wings.append(wing(Drone_noact,name=\"EL\",number=2,pos=elevonpos,Area=0.01,a0=0.2,joint_gain=-4.0))\n",
    "    Drone_noact.wings.append(wing(Drone_noact,name=\"RU\",number=3,pos=rudderpos,Area=0.02,upward=rudder_upward,joint_gain=0*4.0))\n",
    "    Drone_noact.wings.append(wing(Drone_noact,name=\"FR\",number=4,pos=brakerightpos,Area=0.6,a0=-0.05984281113,joint_gain=0.5*0))\n",
    "    Drone_noact.wings.append(wing(Drone_noact,name=\"FL\",number=5,pos=brakeleftpos,Area=0.6,a0=-0.05984281113,joint_gain=0.5*0))\n",
    "    return Drone_noact"
   ]
  },
  {
   "cell_type": "code",
   "execution_count": null,
   "metadata": {},
   "outputs": [],
   "source": [
    "def compute_error():\n",
    "\n",
    "    for step_number in range(len(time_range)-1):\n",
    "\n",
    "            \"if using logs to compute speed, uncomment update from log\"\n",
    "            Drone_noact.update_from_log(Lo,step_number,only_fill_ctrl=False)\n",
    "            \"else (e.g for freefall), uncomment next line\"\n",
    "            Drone_noact.save()\n",
    "\n"
   ]
  }
 ],
 "metadata": {
  "kernelspec": {
   "display_name": "Python 3",
   "language": "python",
   "name": "python3"
  },
  "language_info": {
   "codemirror_mode": {
    "name": "ipython",
    "version": 3
   },
   "file_extension": ".py",
   "mimetype": "text/x-python",
   "name": "python",
   "nbconvert_exporter": "python",
   "pygments_lexer": "ipython3",
   "version": "3.8.5"
  }
 },
 "nbformat": 4,
 "nbformat_minor": 4
}
